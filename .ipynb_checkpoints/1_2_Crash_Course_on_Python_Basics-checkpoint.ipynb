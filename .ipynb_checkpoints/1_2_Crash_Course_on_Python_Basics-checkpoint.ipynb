{
 "cells": [
  {
   "cell_type": "markdown",
   "metadata": {},
   "source": [
    "# Crash Course on Python Basics"
   ]
  },
  {
   "cell_type": "markdown",
   "metadata": {},
   "source": [
    "## Imports\n",
    "To get started we will import the `math` module. This way we'll be able to use it's specific functions concerning mathematics. \n",
    "\n",
    "#### Exercise\n",
    "To import you'll need to type '`import`' followed by the module. We'll give it the alias '`m`' for easy reference in future. You can do this by typing '`as`' and then whichever name you'd like to asign to this module after the import statement.\n",
    "\n",
    "Now import math and use it to print pi (`m.pi`) rounded to 4 decimals. (Use `print()` and `round(number[, ndigits])`)"
   ]
  },
  {
   "cell_type": "code",
   "execution_count": null,
   "metadata": {},
   "outputs": [],
   "source": []
  },
  {
   "cell_type": "markdown",
   "metadata": {},
   "source": [
    "When you have tried, run the cell below for the correct implementation of the import statement."
   ]
  },
  {
   "cell_type": "code",
   "execution_count": null,
   "metadata": {},
   "outputs": [],
   "source": [
    "%load 1_Crash_Course_on_Python_Basics/imports.py\n"
   ]
  },
  {
   "cell_type": "markdown",
   "metadata": {},
   "source": [
    "## String manipulation\n",
    "Strings are a basic data type in python. They are an immutable, ordered sequence of characters. They are delimited by quotation marks (\"\" or '' are both accepted). They can be used to type text, such as names, sentences, etc.\n",
    "\n",
    "We can do many things to manipulate strings. If we want to access a character we can type `str[index]`, where index is the index of the character in the string. (Keep in mind programming languages start indexing at 0, not 1). If you enter a negative index, you can get count back from the last character (-1 is the last character, -2 the second to last …).\n",
    "\n",
    "You can get a substring by using slicing: `str[i1:i2]` will return the substring from i1 up to but not including i2. You can query the length of a string with len(str). If you leave i1 or i2 blank, the substring will respectively start from the first character or go through to the last character.\n",
    "\n",
    "String concatenation uses the + operator. \"`Hello\" + \" \" + \"world`\" will result in \"Hello world\".\n",
    "To get a string in the output you can print it: `print(string)`.\n",
    "\n",
    "#### Exercise\n",
    "Type your first and last name in two different strings. Assign them to the variables a and b. Print the concatenation of a, a whitespace and b."
   ]
  },
  {
   "cell_type": "markdown",
   "metadata": {},
   "source": [
    "Run the cell below to get the solution of this exercise"
   ]
  },
  {
   "cell_type": "code",
   "execution_count": null,
   "metadata": {},
   "outputs": [],
   "source": []
  },
  {
   "cell_type": "code",
   "execution_count": null,
   "metadata": {},
   "outputs": [],
   "source": [
    "%load 1_Crash_Course_on_Python_Basics/stringmanipulation.py\n"
   ]
  },
  {
   "cell_type": "markdown",
   "metadata": {},
   "source": [
    "## Boolean Expressions\n",
    "Boolean expressions have two possible states. They are either `True` (1) or `False` (0). \n",
    "\n",
    "There are also the boolean operations `and`, `or` and `not`. They allow for boolean logic in python. \n",
    "\n",
    "Object can be compared by the following operations: `<` (less than), `<=` (less than or equal), `>`(greater than), `>=` (greater than or equal), `==` (equal), `!=` (not equal). These operations will return a boolean type.\n",
    "\n",
    "#### Exercise\n",
    "Predict what the expressions below will print."
   ]
  },
  {
   "cell_type": "code",
   "execution_count": null,
   "metadata": {},
   "outputs": [],
   "source": [
    "a=(0<3)\n",
    "b=(5==6)\n",
    "c=(6!=8)\n",
    "print(a)\n",
    "print(b)\n",
    "print(c)\n",
    "print(a and b)\n",
    "print(a or b)\n",
    "print(a and c)"
   ]
  },
  {
   "cell_type": "markdown",
   "metadata": {},
   "source": [
    "## If, Elif, Else\n",
    "An `if` statement will evalutate a boolean expression. If the expression is `True` it will run its code. It can be accompanied by an `else` statement. This will run some code if the if statement isn't `True`. The `elif` statement will give a second condition to be checked before it will run its code. The syntax is as follows:\n",
    "\n",
    "    if expression1:\n",
    "       statement(s)\n",
    "    elif expression2:\n",
    "       statement(s)\n",
    "    elif expression3:\n",
    "       statement(s)\n",
    "    else:\n",
    "       statement(s)"
   ]
  },
  {
   "cell_type": "markdown",
   "metadata": {},
   "source": [
    "#### Exercise\n",
    "Initiate variable a. If a is less than 0 your code must print 'a is negative'. If a is 0 it must print 'a is zero' and if a is greater than 0 it must print 'a is positive'. Test the three cases."
   ]
  },
  {
   "cell_type": "code",
   "execution_count": null,
   "metadata": {},
   "outputs": [],
   "source": []
  },
  {
   "cell_type": "code",
   "execution_count": null,
   "metadata": {},
   "outputs": [],
   "source": [
    "# %load 1_Crash_Course_on_Python_Basics/if_statements.py\n",
    "a = -4\n",
    "if a<0:\n",
    "    print('a is negative')\n",
    "elif a==0:\n",
    "    print('a is zero')\n",
    "else:\n",
    "    print('a is positive')"
   ]
  },
  {
   "cell_type": "markdown",
   "metadata": {},
   "source": [
    "## Looping\n",
    "There are 2 ways to loop in python: `for` loops and `while` loops.<br>\n",
    "The `while` loop will repeat as long as a boolean expression is `True`. <br>\n",
    "e.g. This code will take the sum of every natural number up to 5 <br>"
   ]
  },
  {
   "cell_type": "code",
   "execution_count": null,
   "metadata": {},
   "outputs": [],
   "source": [
    "a = 0\n",
    "sum = 0\n",
    "while a < 5:\n",
    "    sum += a\n",
    "    a += 1\n",
    "print(sum)"
   ]
  },
  {
   "cell_type": "markdown",
   "metadata": {},
   "source": [
    "The `for` loop will iterate over a sequence and preform an action for every element in the sequence. <br>\n",
    "e.g. This code will again take the sum of every natural number up to 5 <br>"
   ]
  },
  {
   "cell_type": "code",
   "execution_count": null,
   "metadata": {},
   "outputs": [],
   "source": [
    "sum = 0\n",
    "for a in range(5):\n",
    "    sum += a\n",
    "print(sum)"
   ]
  },
  {
   "cell_type": "markdown",
   "metadata": {},
   "source": [
    "The statements `break` and `continue` can interupt the normal flow of a loop. Break will exit the loop entirely, while continue will skip the rest of the code for this iteration of the loop and then continue the next iteration.\n",
    "\n",
    "#### Exercise\n",
    "Now calculate 7! (7 factorial).\n",
    "\n",
    "(n!, the factorial of n, is the product: 1 x 2 x ... x (n-1) x n)"
   ]
  },
  {
   "cell_type": "code",
   "execution_count": null,
   "metadata": {},
   "outputs": [],
   "source": [
    "import math as  m\n",
    "print(m.factorial(7))"
   ]
  },
  {
   "cell_type": "code",
   "execution_count": null,
   "metadata": {},
   "outputs": [],
   "source": [
    "%load 1_Crash_Course_on_Python_Basics/looping.py\n"
   ]
  },
  {
   "cell_type": "markdown",
   "metadata": {},
   "source": [
    "## Data structures\n",
    "### Lists\n",
    "The first data structure we'll take a look at are lists. Lists are ordered and mutable containers, meaning they can be changed and have a fixed order between their elements.\n",
    "\n",
    "When initialising a list contain the elements of the list in square brackets '[' ']' and seperate them by commas ','.\n",
    "\n",
    "#### Exercise\n",
    "Try entering the numbers 1, 2, 3, 4, 5, 6, 7, 8 and 9 into a list. Call this list lst.\n",
    "\n",
    "Now print the list with the '`print(lst)`' command."
   ]
  },
  {
   "cell_type": "code",
   "execution_count": null,
   "metadata": {},
   "outputs": [],
   "source": [
    "l = [1, 2, 3, 4, 5, 6, 7, 8, 9]\n",
    "print(l)"
   ]
  },
  {
   "cell_type": "markdown",
   "metadata": {},
   "source": [
    "To select an element of the list use the following syntax: `lst[index]`. Just like with strings you can use slicing to get a subset of the list: `lst[i1,i2]`.\n",
    "\n",
    "#### Exercise\n",
    "Next try to add 10 to the end of the list with the comand '`lst.append(value)`'."
   ]
  },
  {
   "cell_type": "code",
   "execution_count": null,
   "metadata": {},
   "outputs": [],
   "source": [
    "print(l[1])"
   ]
  },
  {
   "cell_type": "markdown",
   "metadata": {},
   "source": [
    "If we want to add an element on another place the '`lst.insert(index,value)`' command can be used. \n",
    "\n",
    "#### Exercise\n",
    "Try adding 11 between 4 & 5 and add 6 at the beginning of the list."
   ]
  },
  {
   "cell_type": "code",
   "execution_count": null,
   "metadata": {},
   "outputs": [],
   "source": [
    "l.insert(4,11)\n",
    "l.insert(0,6)\n",
    "print(l)"
   ]
  },
  {
   "cell_type": "markdown",
   "metadata": {},
   "source": [
    "Remove the last entry of the list using the comand '`lst.pop()`'. Pop can also be given an index as an argument to specify which element to pop.\n",
    "\n",
    "#### Exercise\n",
    "Remove the last entry of the list. Now also remove the number at index 1. When using the pop function the element you remove is given as the output. Assign the two elements you've popped from the list to variables a and b."
   ]
  },
  {
   "cell_type": "code",
   "execution_count": null,
   "metadata": {},
   "outputs": [],
   "source": []
  },
  {
   "cell_type": "markdown",
   "metadata": {},
   "source": [
    "If there is no further use for the element you deleted you could use the del function. (`del lst[]`) The added benefit of this function is that you could delete slices or even the entire list with the `del` function. \n",
    "\n",
    "#### Exercise\n",
    "Delete the section from index 2 up to but excluding 4."
   ]
  },
  {
   "cell_type": "code",
   "execution_count": null,
   "metadata": {},
   "outputs": [],
   "source": []
  },
  {
   "cell_type": "markdown",
   "metadata": {},
   "source": [
    "To remove an element by its value rather than its index you can use the function 'lst.remove(value)'. \n",
    "\n",
    "#### Exercise\n",
    "Remove 8 from the list."
   ]
  },
  {
   "cell_type": "code",
   "execution_count": null,
   "metadata": {},
   "outputs": [],
   "source": []
  },
  {
   "cell_type": "markdown",
   "metadata": {},
   "source": [
    "We can count the number of occurences of a particular element with the '`lst.count(value)`' function. \n",
    "\n",
    "#### Exercise\n",
    "Count how many times the element 6 appears in the list."
   ]
  },
  {
   "cell_type": "code",
   "execution_count": null,
   "metadata": {},
   "outputs": [],
   "source": []
  },
  {
   "cell_type": "markdown",
   "metadata": {},
   "source": [
    "Now we want the numbers in the list in a decending order. To this end we'll use the function '`lst.sort()`' and '`lst.reverse()`'.\n",
    "\n",
    "#### Exercise\n",
    "Print your list. Your list you should be [11, 9, 7, 6, 6, 5, 2].\n",
    "Print the values of a and b. The variable a should be 10 and b should be 1."
   ]
  },
  {
   "cell_type": "code",
   "execution_count": null,
   "metadata": {},
   "outputs": [],
   "source": []
  },
  {
   "cell_type": "code",
   "execution_count": null,
   "metadata": {},
   "outputs": [],
   "source": [
    "%load 1_Crash_Course_on_Python_Basics/lists.py"
   ]
  },
  {
   "cell_type": "markdown",
   "metadata": {},
   "source": [
    "### Tuples\n",
    "A second important data structure is a tuple. This is again an ordered container, but in contrast with the list it is immutable, so they can't be changed after initialisation. A tuple is enclosed in round brackets '(' ')' and its elements are seperated by commas. The brackets can also be ommitted. When initialising an empty tuple, two brackets will do. If the tuple has just one element a comma should be added at the end. \n",
    "\n",
    "E.g. `tup = (1,)`\n",
    "\n",
    "#### Exercise\n",
    "We'll now initiate a tuple containing an employee's info. Use the following structure: ('first name', 'last name', year_of_birth,[ ]). Enter your info and name this tuple employee. Leave the list empty for now."
   ]
  },
  {
   "cell_type": "code",
   "execution_count": null,
   "metadata": {},
   "outputs": [],
   "source": []
  },
  {
   "cell_type": "markdown",
   "metadata": {},
   "source": [
    "If we want to acces an element of this tuple, we can type '`tup[index]`'. \n",
    "\n",
    "#### Exercise\n",
    "Print the first name of the employee in question."
   ]
  },
  {
   "cell_type": "code",
   "execution_count": null,
   "metadata": {},
   "outputs": [],
   "source": []
  },
  {
   "cell_type": "markdown",
   "metadata": {},
   "source": [
    "Now we'll save the projects this employee has worked on in the list. Even though tuples are immutable, the elements within the tuple can be mutable. By selecting the list as above you can change it. \n",
    "\n",
    "#### Exercise\n",
    "Enter Project_X as the last project in the list. Enter Training as the first project in this list."
   ]
  },
  {
   "cell_type": "code",
   "execution_count": null,
   "metadata": {},
   "outputs": [],
   "source": []
  },
  {
   "cell_type": "markdown",
   "metadata": {},
   "source": [
    "We now want to know how many projects an employee has worked on. \n",
    "\n",
    "#### Exercise\n",
    "Use the command 'len(list)' and print out how many project they have worked on. Also check if they've worked on 'Project_Blue' with the command ''Project_Blue' in list'. Print every project this employee has worked on. '`for x in list_proj : print(x)`'."
   ]
  },
  {
   "cell_type": "code",
   "execution_count": null,
   "metadata": {},
   "outputs": [],
   "source": []
  },
  {
   "cell_type": "markdown",
   "metadata": {},
   "source": [
    "Now create a tuple with a single gender (M/F/X). Call it gen. We now want a new tuple with the information in the tuple employee and the tuple gen. We do this by concatonating the two tuples (employee + gen) and storing the result in a new tuple called empgen."
   ]
  },
  {
   "cell_type": "code",
   "execution_count": null,
   "metadata": {},
   "outputs": [],
   "source": []
  },
  {
   "cell_type": "code",
   "execution_count": null,
   "metadata": {},
   "outputs": [],
   "source": [
    "%load 1_Crash_Course_on_Python_Basics/tuples.py\n"
   ]
  },
  {
   "cell_type": "markdown",
   "metadata": {},
   "source": [
    "### Sets\n",
    "Sets is an unordered container without duplicate elements. It's an easy data structure to check membership.\n",
    "It can be initialised by typing set() or {} around a series of values. This will eliminate any duplicates and negate any specific order. This can either be a collection that already exist or a collection that is initialised on the spot. E.g. `set(lst)` or `set([1,2,3,4,5])`, `set('John Doe')`, `set((1,2,3,4,5))`. An empty set is initialised as `set()`.\n",
    "\n",
    "#### Exercise\n",
    "Make a set from your name. Then count how many different letters your name contains by calculating the length of the set. Check if 'e' is in your name."
   ]
  },
  {
   "cell_type": "code",
   "execution_count": null,
   "metadata": {},
   "outputs": [],
   "source": [
    "s = {'a', 'b', 'c', 'a'}\n",
    "s2 = set(['a', 'b', 'c', 'a'])\n",
    "print(s)\n",
    "print(s2)"
   ]
  },
  {
   "cell_type": "code",
   "execution_count": null,
   "metadata": {},
   "outputs": [],
   "source": [
    "%load 1_Crash_Course_on_Python_Basics/sets.py\n"
   ]
  },
  {
   "cell_type": "markdown",
   "metadata": {},
   "source": [
    "### Dictionaries\n",
    "The last data structure is the dictionary. This is in essence an unorganised set of 'key: value' pairs. The dictionary is indexed by key and as such keys must be immutable (strings, numbers, tuples of immutable elements...). Lists can't be used as keys since they can be changed. Its main purpose is to find the value for a given key.\n",
    "\n",
    "#### Exercise\n",
    "Assume a company has multiple locations and wants a simple structure to see how many employees work on each location. Create a dictionary called `empnb` by using the following syntax: `dict = {key:value,}` and enter the following data:\n",
    "\n",
    "    Brussels: 200\n",
    "    London: 52\n",
    "    New York: 45\n",
    "    Bejing: 20\n",
    "\n",
    "Now the company would like to know if they have an office in Paris. Check this with the command: '`key in dict`'."
   ]
  },
  {
   "cell_type": "code",
   "execution_count": null,
   "metadata": {},
   "outputs": [],
   "source": [
    "empnb = {'Brussels': 200, 'London': 52, 'New York': 45, 'Bejing': 20}\n",
    "\n",
    "for k, v in empnb.items():\n",
    "    print(k, \"-->\", v)\n",
    "    "
   ]
  },
  {
   "cell_type": "code",
   "execution_count": null,
   "metadata": {},
   "outputs": [],
   "source": [
    "# key in dict:"
   ]
  },
  {
   "cell_type": "markdown",
   "metadata": {},
   "source": [
    "To query the value of a key, you can use the syntax: `dict[key]`. \n",
    "\n",
    "#### Exercise\n",
    "Print the number of employees that work in the office in Brussels.\n",
    "\n",
    "The company would like to know how many employees they have in total. Loop over the dictionary and print the sum of all the employees."
   ]
  },
  {
   "cell_type": "code",
   "execution_count": null,
   "metadata": {},
   "outputs": [],
   "source": []
  },
  {
   "cell_type": "markdown",
   "metadata": {},
   "source": [
    "If you want a list of all the keys in a dictionary you can use the '`dict.keys()`' methode. The '`dict.values()`' methode will return a list all the values in the dictionary.\n",
    "\n",
    "#### Exercise\n",
    "Experiment with the `dict.keys()` and `dict.values()` methods. What would `dict.items()` return?"
   ]
  },
  {
   "cell_type": "code",
   "execution_count": null,
   "metadata": {},
   "outputs": [],
   "source": []
  },
  {
   "cell_type": "code",
   "execution_count": null,
   "metadata": {},
   "outputs": [],
   "source": [
    "%load 1_Crash_Course_on_Python_Basics/dictionaries.py\n"
   ]
  },
  {
   "cell_type": "markdown",
   "metadata": {},
   "source": [
    "### Comprehensions\n",
    "Comprehensions are a consise way to create containers. For now we'll focuse on list comprehension, but the same principles apply to set and dictionary comprehension.\n",
    "\n",
    "List comprehension is used to create  a new list from an existing sequence or iterable. E.g. We want to have a list with all the even number up to 100 to the second power: `even_to_the_second=[x**2 for x in range(100) if x%2==0]`\n",
    "\n",
    "The operation we do is x\\*\\*2. We want to do this on every integer up to 100, but we only want to use the even numbers to begin with (Checked by taking modulo 2 of the numbers.)\n",
    "\n",
    "#### Exercise\n",
    "Use the dictionary from the last excercise. Create a list of all the cities where the company has at least 30 employees using list comprehension."
   ]
  },
  {
   "cell_type": "code",
   "execution_count": null,
   "metadata": {},
   "outputs": [],
   "source": [
    "for x in range(10):\n",
    "    print(x, end=' ')"
   ]
  },
  {
   "cell_type": "code",
   "execution_count": null,
   "metadata": {},
   "outputs": [],
   "source": [
    "even_to_the_second = [x**2 for x in range(10) if x%2 == 0]\n",
    "print(even_to_the_second)"
   ]
  },
  {
   "cell_type": "code",
   "execution_count": null,
   "metadata": {},
   "outputs": [],
   "source": [
    "empnb"
   ]
  },
  {
   "cell_type": "code",
   "execution_count": null,
   "metadata": {},
   "outputs": [],
   "source": [
    "[x for x in empnb.keys() if empnb[x] > 30]"
   ]
  },
  {
   "cell_type": "markdown",
   "metadata": {},
   "source": [
    "### Counters\n",
    "The collections module in Python provides counter objects. These counters are a dictionary subclass with the elements that are being counted as keys and their count as value. To create a counter we first need to import 'collections'. Then you can create a new counter with the command: `collections.Counter(iterable)`. \n",
    "\n",
    "If you want a list with the n most common elements and their counts in a counter use the command: `counter.most_common(n)`. If n is ommited this will return a list with all the elements in the counter.\n",
    "\n",
    "#### Exercise\n",
    "Type your name in a string and call it name. Make a counter of name and print it.<br>\n",
    "Make a counter of this list of zoo animals: `zoo = [\"monkey\", \"elephant\", \"monkey\", \"monkey\", \"elephant\", \"lion\", \"monkey\", \"zebra\", \"polar bear\", \"elephant\", \"monkey\", \"zebra\"]`\n",
    "\n",
    "Print the most common animal and its count out."
   ]
  },
  {
   "cell_type": "code",
   "execution_count": null,
   "metadata": {},
   "outputs": [],
   "source": [
    "import collections as col\n",
    "zoo = [\"monkey\", \"elephant\", \"monkey\", \"monkey\", \"elephant\", \"lion\", \"monkey\", \"zebra\", \n",
    "       \"polar bear\", \"elephant\", \"monkey\", \"zebra\"]\n",
    "c = col.Counter(zoo)\n",
    "print(c.most_common(3))"
   ]
  },
  {
   "cell_type": "code",
   "execution_count": null,
   "metadata": {},
   "outputs": [],
   "source": [
    "%load 1_Crash_Course_on_Python_Basics/counters.py\n"
   ]
  },
  {
   "cell_type": "markdown",
   "metadata": {},
   "source": [
    "## Functions\n",
    "A function is a block of reusable code. It has the following syntax: "
   ]
  },
  {
   "cell_type": "code",
   "execution_count": null,
   "metadata": {},
   "outputs": [],
   "source": [
    "def functionname( parameters ):\n",
    "    \"\"\"function_docstring\"\"\"\n",
    "    function_suite\n",
    "    return [expression]"
   ]
  },
  {
   "cell_type": "markdown",
   "metadata": {},
   "source": [
    "The function docstring will state what the function does. In the function suite the actual code is writen. The return statement will return the final result of the function.\n",
    "\n",
    "#### Exercise\n",
    "Define a function that takes a dictionary, similar to the last excercice, with cities and a number of employees that work in that city. The function must return the total number of employees the company has."
   ]
  },
  {
   "cell_type": "code",
   "execution_count": null,
   "metadata": {},
   "outputs": [],
   "source": []
  },
  {
   "cell_type": "code",
   "execution_count": null,
   "metadata": {},
   "outputs": [],
   "source": [
    "%load 1_Crash_Course_on_Python_Basics/functions.py\n"
   ]
  },
  {
   "cell_type": "markdown",
   "metadata": {},
   "source": [
    "### Lambda functions\n",
    "Lambda functions are anonymous function that can be used inline. This makes them very usefull for simple one time functions. Their basic syntax is: `lambda arguments: expression`. Notice a lambda function doesn't have a return statement. It can take multiple arguments seperated by commas but only one expression. Often a lambda function is used when a function is needed as an argument for another function.\n",
    "\n",
    "Examples of such functions are map and filter. They both take a function and a sequence as arguments. Map will then perform the function on each element of the sequence and output these results in a new sequence. Filter needs the function to output a boolean value. It will output a sequence with the elements of the first sequence that returned `True` in the function. To output the new sequence, it can be turned into a list by surrounding it with list().\n",
    "\n",
    "#### Exercise\n",
    "Print out a list of the second powers of the numbers from 0 up to 11 that are even."
   ]
  },
  {
   "cell_type": "code",
   "execution_count": null,
   "metadata": {},
   "outputs": [],
   "source": [
    "rng = range(11)"
   ]
  },
  {
   "cell_type": "code",
   "execution_count": null,
   "metadata": {},
   "outputs": [],
   "source": []
  },
  {
   "cell_type": "code",
   "execution_count": null,
   "metadata": {},
   "outputs": [],
   "source": [
    "%load 1_Crash_Course_on_Python_Basics/lambdafunctions.py\n"
   ]
  }
 ],
 "metadata": {
  "kernelspec": {
   "display_name": "Python 3",
   "language": "python",
   "name": "python3"
  },
  "language_info": {
   "codemirror_mode": {
    "name": "ipython",
    "version": 3
   },
   "file_extension": ".py",
   "mimetype": "text/x-python",
   "name": "python",
   "nbconvert_exporter": "python",
   "pygments_lexer": "ipython3"
  }
 },
 "nbformat": 4,
 "nbformat_minor": 2
}
