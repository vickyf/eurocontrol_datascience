{
 "cells": [
  {
   "cell_type": "markdown",
   "metadata": {},
   "source": [
    "# Principal Component Analysis\n",
    "Principal component analysis is a procedure that will **attempt to convert a set of observations of possibly correlated variables into a set of linearly uncorrelated variables**. These linearly unrelated variables will then be the principal components. The first principal component will then have the largest possible variance and thus **account for as much of the variability in the data as possible**. Every other component also has the largest possible variance under the constraint that they must be **orthogonal to the preceding components**.\n",
    "\n",
    "PCA can supply a **lower-dimensional picture**, because it tries to **condense the information as much as possible**. If we ommit the component with the lowest variance, the component that carries the least meaning, we retain as much information as possible in as little components as possible.\n",
    "\n",
    "Scikit learn implements this algorithm in their `sklearn.decomposition.PCA()` class.\n",
    "\n",
    "http://scikit-learn.org/stable/modules/generated/sklearn.decomposition.PCA.html"
   ]
  },
  {
   "cell_type": "markdown",
   "metadata": {},
   "source": [
    "### Excercise\n",
    "Use PCA on the Boston dataset with a decision tree. Use the `StandardScaler()`to prepare your data for PCA. Compare the accuracy and speed of a simple decision tree and a decision tree combined with PCA. (Use a start and end time with `datetime.now()`). Can you explain this with what you know about PCA?"
   ]
  },
  {
   "cell_type": "code",
   "execution_count": null,
   "metadata": {},
   "outputs": [],
   "source": [
    "import pandas as pd\n",
    "import numpy as np\n",
    "from sklearn import tree, decomposition, preprocessing\n",
    "from sklearn.model_selection import train_test_split\n",
    "from sklearn.datasets import load_boston\n",
    "from datetime import datetime"
   ]
  },
  {
   "cell_type": "code",
   "execution_count": null,
   "metadata": {},
   "outputs": [],
   "source": [
    "%load 7_Principal_Component_Analysis/startingMaterialPCA.py\n"
   ]
  },
  {
   "cell_type": "code",
   "execution_count": null,
   "metadata": {},
   "outputs": [],
   "source": [
    "%load 7_Principal_Component_Analysis/pca.py\n"
   ]
  },
  {
   "cell_type": "code",
   "execution_count": null,
   "metadata": {},
   "outputs": [],
   "source": []
  }
 ],
 "metadata": {
  "kernelspec": {
   "display_name": "Python 3",
   "language": "python",
   "name": "python3"
  },
  "language_info": {
   "codemirror_mode": {
    "name": "ipython",
    "version": 3
   },
   "file_extension": ".py",
   "mimetype": "text/x-python",
   "name": "python",
   "nbconvert_exporter": "python",
   "pygments_lexer": "ipython3"
  }
 },
 "nbformat": 4,
 "nbformat_minor": 2
}
