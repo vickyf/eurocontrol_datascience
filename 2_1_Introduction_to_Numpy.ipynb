{
 "cells": [
  {
   "cell_type": "markdown",
   "metadata": {},
   "source": [
    "# Numpy"
   ]
  },
  {
   "cell_type": "markdown",
   "metadata": {},
   "source": [
    "Numpy is a library with at its core multidimensional array objects, called an ndarray. Every element in the array must be of the same data type. In Numpy dimensions are called axes. The number of dimensions is called a rank. The shape of an array is a tuple with the size of the array along each dimension.\n",
    "\n",
    "We can initialise an array from a nested list. To get started we must import numpy. Next use the following command: `numpy.array(nested list)`. This will initialise the array.\n",
    "\n",
    "#### Exercise\n",
    "Start from the nested list: `[ [-1,4.5,5], [4,6,7] ]`<br>\n",
    "Create an array from this list. Print it out and query it shape. (array.shape)"
   ]
  },
  {
   "cell_type": "code",
   "execution_count": null,
   "metadata": {},
   "outputs": [],
   "source": [
    "import numpy as np\n",
    "np.random.seed = 0  # To ensure you always get the same results when using np.random functions"
   ]
  },
  {
   "cell_type": "code",
   "execution_count": null,
   "metadata": {},
   "outputs": [],
   "source": [
    "%load 2_Scientific_Libraries/arrays.py\n"
   ]
  },
  {
   "cell_type": "markdown",
   "metadata": {},
   "source": [
    "### Initialisers\n",
    "Next to the simple initialiser numpy.array(nested list) there are a number of functions to create arrays of various properties.\n",
    "\n",
    "- **`numpy.zeros((n,m))`** creates an all zero array of dimensions nxm\n",
    "- **`numpy.ones((n,m))`** creates an all 1 array\n",
    "- **`numpy.full((n,m),p)`** creates a constant array with p as every element\n",
    "- **`numpy.identity(n)`** creates a n by n identity matrix\n",
    "- **`numpy.random.random((n,m))`** creates an arrax filled with random values.\n",
    "- **`numpy.linspace(start,stop,num=n)`** will return an array with n evenly spaced elements in between start and stop point.\n",
    "\n",
    "#### Exercise\n",
    "Try these functions out to initialise some new arrays."
   ]
  },
  {
   "cell_type": "code",
   "execution_count": null,
   "metadata": {},
   "outputs": [],
   "source": []
  },
  {
   "cell_type": "code",
   "execution_count": null,
   "metadata": {},
   "outputs": [],
   "source": [
    "%load 2_Scientific_Libraries/initialisers.py"
   ]
  },
  {
   "cell_type": "code",
   "execution_count": null,
   "metadata": {},
   "outputs": [],
   "source": [
    "import numpy as np\n",
    "a = np.arange(1,13).reshape(4,3)\n",
    "print(a)"
   ]
  },
  {
   "cell_type": "code",
   "execution_count": null,
   "metadata": {},
   "outputs": [],
   "source": [
    "a[0,0:2]"
   ]
  },
  {
   "cell_type": "code",
   "execution_count": null,
   "metadata": {},
   "outputs": [],
   "source": [
    "a[0:1]"
   ]
  },
  {
   "cell_type": "markdown",
   "metadata": {},
   "source": [
    "### Indexing\n",
    "The numpy library offers several ways to index in arrays. To get a single element from the array, you can use a similar syntax to lists. Now there is a tuple with an index for each axes. A rank two array will result in the following syntas: `a[i1,i2]`.\n",
    "#### Slicing\n",
    "Just like with lists we can take a slice of an array. Again a slice will need to be specified for each dimension. Since you're selecting a subset, changing anything in this selection will also change the original array. When mixing integer indexing with slice indexing the rank of the array will change.<br>\n",
    "E.g. starting from a rank 2 matrix with shape (4,3)\n",
    "\n",
    "[[ 1  2  3 ]<br>\n",
    " [ 4  5  6 ]<br>\n",
    " [ 7  8  9 ]<br>\n",
    "[ 10 11 12 ]]<br>\n",
    "\n",
    "If we now want to select the first row, we can either use slice indexing or mix indexing and they will give a result with a different rank:<br>\n",
    "`a[0,:]` will return a rank 1 view of the first row: `[ 1 2 3 ]`.<br>\n",
    "`a[0:1]` will return a rank 2 view of the first row: `[[ 1 2 3 ]]` <br>"
   ]
  },
  {
   "cell_type": "code",
   "execution_count": null,
   "metadata": {},
   "outputs": [],
   "source": [
    "a[[0,1,2,3],[2,2,1,2]]"
   ]
  },
  {
   "cell_type": "markdown",
   "metadata": {},
   "source": [
    "#### Integer array indexing\n",
    "Where slicing only allows you to acces subarrays of the array, integer array indexing will go beyond this. You can arbitrarily rearange the data from one array into a new one.<br>\n",
    "When using integer array indexing, first the index of the rows of the selected elements are defined and than the index of the element within the row.<br>\n",
    "E.g. using the same array as above<br>\n",
    "`a[[0,1,2,3],[2,2,1,2]]` will select `[3,6,8,12]`"
   ]
  },
  {
   "cell_type": "markdown",
   "metadata": {},
   "source": [
    "#### Boolean array indexing\n",
    "Another way to index is boolean indexing. This is used to select the elements that satisfy a condition.<br>\n",
    "E.g. using the same array as above<br>\n",
    "`boolean_index=(a <= 7)`<br>\n",
    "Boolean_index now is a numpy array with the same shape as a in each slot a boolean. This boolean is true if the given element of a is smaller or equal to 7 and False otherwise. If now `boolean_index` is entered as an index `a[boolean_index]` will return `[1 2 3 4 5 6 7]`<br>"
   ]
  },
  {
   "cell_type": "code",
   "execution_count": null,
   "metadata": {},
   "outputs": [],
   "source": [
    "print(a)\n",
    "boolean_mask=(a <= 7)\n",
    "print(boolean_mask)"
   ]
  },
  {
   "cell_type": "markdown",
   "metadata": {},
   "source": [
    "#### Exercise\n",
    "Use the a array above. \n",
    "- Select the 2x2 array in the lefthand corner with slicing. \n",
    "- Select the second row in a rank 1 array. \n",
    "- Select one element from each row with integer array indexing; the 3th, the 1st, the 2nd and the 1st respectively. \n",
    "- Select an array with the four corner elements with integer array indexing. Then select every even element with boolean array indexing. (n modulo 2 is 0 for even numbers and 1 for odd numbers. Python uses % for the modulus.)"
   ]
  },
  {
   "cell_type": "code",
   "execution_count": null,
   "metadata": {},
   "outputs": [],
   "source": [
    "print(a)\n",
    "print(a[0:2,0:2])\n",
    "print(a[1,:])\n",
    "print(np.arange(4))\n",
    "a[1:2]"
   ]
  },
  {
   "cell_type": "code",
   "execution_count": null,
   "metadata": {},
   "outputs": [],
   "source": [
    "%load 2_Scientific_Libraries/indexing.py\n"
   ]
  },
  {
   "cell_type": "code",
   "execution_count": null,
   "metadata": {},
   "outputs": [],
   "source": [
    "a[a%2==0]"
   ]
  },
  {
   "cell_type": "markdown",
   "metadata": {},
   "source": [
    "#### Numpy frustrations for MATLAB coders\n",
    "\n",
    "When you create a vector it has no second dimension!"
   ]
  },
  {
   "cell_type": "code",
   "execution_count": null,
   "metadata": {},
   "outputs": [],
   "source": [
    "vec = np.arange(4)\n",
    "vec.shape"
   ]
  },
  {
   "cell_type": "markdown",
   "metadata": {},
   "source": [
    "So you cannot use it for matrix multiplications. Either of the following should result in a 4x4 matrix!"
   ]
  },
  {
   "cell_type": "code",
   "execution_count": null,
   "metadata": {},
   "outputs": [],
   "source": [
    "print(np.dot(vec,vec.T))\n",
    "print(np.dot(vec.T,vec))"
   ]
  },
  {
   "cell_type": "markdown",
   "metadata": {},
   "source": [
    "I understand numpy's reasoning for this, it takes less space. But I find it very frustrating. So I personally mostly initiate any vectors as 2D arrays, as follows:"
   ]
  },
  {
   "cell_type": "code",
   "execution_count": null,
   "metadata": {},
   "outputs": [],
   "source": [
    "vec2D = np.arange(4).reshape(-1,1)\n",
    "print(vec2D.T.shape)"
   ]
  },
  {
   "cell_type": "code",
   "execution_count": null,
   "metadata": {},
   "outputs": [],
   "source": [
    "print(np.dot(vec2D,vec2D.T))\n",
    "print(np.dot(vec2D.T,vec2D))"
   ]
  },
  {
   "cell_type": "markdown",
   "metadata": {},
   "source": [
    "### Data Types\n",
    "As mentioned before, arrays are a grid of elements of the same type. Numpy provides more numerical types than Python does. When creating an array numpy will try to guess which datatype it should use, but you can manually specify the datatype when needed.\n",
    "To query an existing array's data type use a.dtype. When forcing a datatype on an array use: `a = np.array([1,2], dtype=np.float64]`.\n",
    "\n",
    "https://docs.scipy.org/doc/numpy-1.13.0/reference/arrays.scalars.html#arrays-scalars-built-in\n",
    "\n",
    "#### Exercise\n",
    "Create a new 2x2 array with enteries 1,2,3 & 4. Set its datatype to complex128."
   ]
  },
  {
   "cell_type": "code",
   "execution_count": null,
   "metadata": {},
   "outputs": [],
   "source": [
    "a = np.array([1,2], dtype=np.float64)\n",
    "print(a)"
   ]
  },
  {
   "cell_type": "code",
   "execution_count": null,
   "metadata": {},
   "outputs": [],
   "source": [
    "%load 2_Scientific_Libraries/datatypes.py\n"
   ]
  },
  {
   "cell_type": "markdown",
   "metadata": {},
   "source": [
    "### Array Math & Linear Algebra\n",
    "When using numpy basic elementwise mathematical constructs are available both as a function and as an overload of the operators.\n",
    "\n",
    "These are a few common elementwise computations: (assume A and B compatible arrays):\n",
    "- **Sum:** A+B = `np.add(A,B)`\n",
    "- **Difference:** A-B = `np.subtract(A,B)`\n",
    "- **Product:** A\\*B = `np.multiply(A,B)`\n",
    "- **Division:** A/B = `np.divide(A,B)`\n",
    "- **Power:** A\\*\\*2 = `np.power(A,2)`\n",
    "- **Square root:** `np.sqrt(A)`\n",
    "- **Trigonometric functions:** `np.sin(A)`"
   ]
  },
  {
   "cell_type": "markdown",
   "metadata": {},
   "source": [
    "Unary functions:\n",
    "\n",
    "Sum of the elements in an array: `a.sum() = np.sum(a)`\n",
    "Maximum/mininmum of the elments of an array: `a.max() / a.min() = np.max(A) / np.min(A)`\n",
    "\n",
    "The unary operation that apply to the array as a whole can also be applied along a specific axis.\n",
    "E.g. The sum of each column (across all rows, on axis=0): `A.sum(axis=0) = np.sum(A,axis=0)`\n",
    "\n",
    "Another thing to note is that multiply will give an **elementwise multiplication of two arrays, NOT a matrix multiplication**. To this end the dot function should be used:\n",
    "Matrix multiplication: `A.dot(B) = np.dot(A,B)`\n",
    "\n",
    "Some other functions concerning linear algebra are included. `a.T` will transpose the array (its rows will become its columns and vice versa) and `np.linalg.inv(A)` will calculate the inverse matrix of A. `np.trace(A)` will calculate the trace and `np.linalg.eig(A)` will calculate its eigenvalues. `np.linalg.solve(A,B)` will solve the linear matrix equation `Ax = B`."
   ]
  },
  {
   "cell_type": "markdown",
   "metadata": {},
   "source": [
    "#### Exercise\n",
    "Create the random arrays A and B of shape (4,4) (Use the function `np.random.randint(Low,High,size=(,))`.\n",
    "Calculate the matrix product of the sum of the elements of the columns of A, and the square root of the maximum of rows of B"
   ]
  },
  {
   "cell_type": "code",
   "execution_count": null,
   "metadata": {},
   "outputs": [],
   "source": []
  },
  {
   "cell_type": "code",
   "execution_count": null,
   "metadata": {},
   "outputs": [],
   "source": [
    "%load 2_Scientific_Libraries/arraymath.py\n"
   ]
  },
  {
   "cell_type": "markdown",
   "metadata": {},
   "source": [
    "### Shape manipulation\n",
    "An array can be rearranged by a few different functions:\n",
    "- `a.ravel()` will return the array flattened to a rank 1 array. \n",
    "- `a.reshape(n,m)` will reshape the array into a n by m array if possible. If n or m gets the value of -1, it will be automatically calculated.\n",
    "\n",
    "These functions all return a different array with the modified shape. If you want to change the array itself (inplace), you can use `a.resize(n,m)`"
   ]
  },
  {
   "cell_type": "code",
   "execution_count": null,
   "metadata": {},
   "outputs": [],
   "source": [
    "M = np.arange(1,13).reshape(4,3)\n",
    "print(M)\n",
    "print()\n",
    "print(M.ravel())"
   ]
  },
  {
   "cell_type": "code",
   "execution_count": null,
   "metadata": {},
   "outputs": [],
   "source": [
    "M.resize(3,4)\n",
    "print(M)"
   ]
  },
  {
   "cell_type": "markdown",
   "metadata": {},
   "source": [
    "Especially convenient for quickly iteration through an entire matrix"
   ]
  },
  {
   "cell_type": "markdown",
   "metadata": {},
   "source": [
    "### Stacking and splitting\n",
    "To stack different array `np.vstack((a,b))` and `np.hstack((a,b))` can be used for vertical and horizontal stacking respectively. When working with more than 2 dimensions `vstack` will stack along the first axes, `hstack` along the second axes and concatenate will provide an extra argument for the number of the axis. \n",
    "\n",
    "When stacking one array on top of itself `np.tile()` can be used.\n",
    "\n",
    "Splitting one array into multiple smaller ones works similarly. `np.hsplit(a,n)` will split a into n along the horizontal axis, `np.hsplit(a,(n,m))` will split after the nth and the mth column. `np.vsplit(a,n)` splits along the vertical axis and `np.array_split` has an extra argument for when you're working with more dimensions."
   ]
  },
  {
   "cell_type": "code",
   "execution_count": null,
   "metadata": {},
   "outputs": [],
   "source": [
    "A = np.arange(1,10).reshape(3,3)\n",
    "B = np.arange(11,20).reshape(3,3)\n",
    "print(A)\n",
    "print()\n",
    "print(B)"
   ]
  },
  {
   "cell_type": "code",
   "execution_count": null,
   "metadata": {},
   "outputs": [],
   "source": [
    "print(np.vstack((A,B)))"
   ]
  },
  {
   "cell_type": "code",
   "execution_count": null,
   "metadata": {},
   "outputs": [],
   "source": [
    "print(np.hstack((A,B)))"
   ]
  },
  {
   "cell_type": "code",
   "execution_count": null,
   "metadata": {},
   "outputs": [],
   "source": [
    "print(np.tile(A,(2,3)))"
   ]
  },
  {
   "cell_type": "code",
   "execution_count": null,
   "metadata": {},
   "outputs": [],
   "source": [
    "A = np.arange(1,13).reshape(3,4)\n",
    "print(A)"
   ]
  },
  {
   "cell_type": "code",
   "execution_count": null,
   "metadata": {},
   "outputs": [],
   "source": [
    "A_split = np.hsplit(A, (3,))\n",
    "print(type(A_split))  # np.hsplit returns a list of numpy arrays\n",
    "print()\n",
    "print(A_split[0])\n",
    "print()\n",
    "print(A_split[1])"
   ]
  },
  {
   "cell_type": "code",
   "execution_count": null,
   "metadata": {},
   "outputs": [],
   "source": [
    "A"
   ]
  },
  {
   "cell_type": "code",
   "execution_count": null,
   "metadata": {},
   "outputs": [],
   "source": [
    "A.T"
   ]
  },
  {
   "cell_type": "markdown",
   "metadata": {},
   "source": [
    "#### Exercise\n",
    "- Create the random arrays A & B with shape (3,4). \n",
    "- Reshape A to be of shape (2,6). \n",
    "- Split it after the third column. \n",
    "- Only keep the first section. \n",
    "- Transpose B. \n",
    "- Now split B vertically in two. \n",
    "- Only keep the second section. \n",
    "- Do a vertical stack of these two sections and call this C."
   ]
  },
  {
   "cell_type": "code",
   "execution_count": null,
   "metadata": {},
   "outputs": [],
   "source": []
  },
  {
   "cell_type": "code",
   "execution_count": null,
   "metadata": {},
   "outputs": [],
   "source": [
    "%load 2_Scientific_Libraries/shape.py\n"
   ]
  },
  {
   "cell_type": "markdown",
   "metadata": {},
   "source": [
    "### Copy\n",
    "When manipulating an array there are three different ways data is handeled.\n",
    "\n",
    "1. Sometimes there is **no copy at all**. No new object will be created. E.g. If A is an array, typing `B=A` won't create a new object. Instead A & B are simply two names for the same object. Any changes to B will result in changes to A and vice versa.\n",
    "\n",
    "2. Other times we'll create a **view**, or a **shallow copy**. The objects aren't the same but they do look at the same data. E.g. If we'd type `C = A.view()`, C wouldn't be the same object as A, but it does look at the same data as A. Slicing also returns a view. If we would change the shape of one of the arrays it would have no effect on the other array. However if we change a value, this would change the others data.\n",
    "\n",
    "3. Lastly we can make a **deep copy**. In this case there is no data shared between the two objects and any changes to one of the arrays won't affect the other. E.g. If we type `D = A.copy()`, we can change any value in D without affecting A."
   ]
  },
  {
   "cell_type": "code",
   "execution_count": null,
   "metadata": {},
   "outputs": [],
   "source": [
    "import numpy as np\n",
    "X = np.arange(1,10).reshape(3,3)\n",
    "print(X)"
   ]
  },
  {
   "cell_type": "code",
   "execution_count": null,
   "metadata": {},
   "outputs": [],
   "source": [
    "Z = X.copy()"
   ]
  },
  {
   "cell_type": "code",
   "execution_count": null,
   "metadata": {},
   "outputs": [],
   "source": [
    "print(id(X))\n",
    "print()\n",
    "print(id(Z))"
   ]
  },
  {
   "cell_type": "code",
   "execution_count": null,
   "metadata": {},
   "outputs": [],
   "source": [
    "Z[0,0] = 100\n",
    "print(X)"
   ]
  },
  {
   "cell_type": "code",
   "execution_count": null,
   "metadata": {},
   "outputs": [],
   "source": [
    "# an operation and assignment does create a copy!\n",
    ">>> from numpy.linalg import inv\n",
    ">>> a = np.array([[1., 2.], [3., 4.]])\n",
    ">>> ainv = inv(a)\n",
    "print(np.dot(a,ainv))"
   ]
  },
  {
   "cell_type": "code",
   "execution_count": null,
   "metadata": {},
   "outputs": [],
   "source": [
    "# but an inplace operation, does not!\n",
    "from numpy.linalg import inv\n",
    "a = np.array([[1., 2.], [3., 4.]])\n",
    "b = a\n",
    "b.resize(1,4)\n",
    "print(id(a))\n",
    "print(id(b))"
   ]
  },
  {
   "cell_type": "markdown",
   "metadata": {},
   "source": [
    "#### Exercise\n",
    "Try out these properties by:\n",
    "- Generating a full (3,4) array with a value of 1 and calling it A. \n",
    "- Set B equal to A, C equal to the first row of A and D equal to a copy of A. \n",
    "- Resize B to (2,6), C to (2,2) and D to (1,12). \n",
    "- Then change B[0,0] to 2, C[0,1] to 3 and D[0,2] to 4. \n",
    "\n",
    "Try to predict how A, B, C and D will look before you print them."
   ]
  },
  {
   "cell_type": "code",
   "execution_count": null,
   "metadata": {},
   "outputs": [],
   "source": [
    "%load 2_Scientific_Libraries/copies.py\n"
   ]
  },
  {
   "cell_type": "markdown",
   "metadata": {},
   "source": [
    "### Broadcasting\n",
    "The last topic of numpy we'll take a look at is broadcasting. It allows us to work with arrays of different sizes.\n",
    "The easiest example of broadcasting is when we add a number to an array. Broadcasting will 'strech' the number into an array of the same shape as the original array. Then it will add these two arrays. E.g.\n",
    "\n",
    "    a = np.array([1,1,1])\n",
    "    b = 1\n",
    "    c = a + b\n",
    "    \n",
    "c will be `[2 2 2]`. The broadcasting rule expresses whether two arrays are compatible for broadcasting: For 2 dimensions to be compatible they either need to be the same or one of them needs to be 1 (a scalar). The size of the resulting array is the maximum size of the input arrays along each axis."
   ]
  },
  {
   "cell_type": "code",
   "execution_count": null,
   "metadata": {},
   "outputs": [],
   "source": [
    "a = np.array([1,1,1])\n",
    "b = 1\n",
    "c = a + b\n",
    "print(c)\n",
    "print()\n",
    "print(b)  # Broadcasting does not change the original variable"
   ]
  },
  {
   "cell_type": "code",
   "execution_count": null,
   "metadata": {},
   "outputs": [],
   "source": [
    "a = np.arange(1,10).reshape(3,3)\n",
    "b = np.array([1, 2, 3])\n",
    "print(a)\n",
    "print()\n",
    "print(b)\n",
    "print()\n",
    "print(a + b)"
   ]
  },
  {
   "cell_type": "markdown",
   "metadata": {},
   "source": [
    "#### Exercise\n",
    "Add 1 to both first and last element of each row of a full (3,3) array with value 1, using the broadcasting rule."
   ]
  },
  {
   "cell_type": "code",
   "execution_count": null,
   "metadata": {},
   "outputs": [],
   "source": []
  },
  {
   "cell_type": "code",
   "execution_count": null,
   "metadata": {},
   "outputs": [],
   "source": [
    "%load 2_Scientific_Libraries/broadcasting.py"
   ]
  }
 ],
 "metadata": {
  "kernelspec": {
   "display_name": "Python 3",
   "language": "python",
   "name": "python3"
  },
  "language_info": {
   "codemirror_mode": {
    "name": "ipython",
    "version": 3
   },
   "file_extension": ".py",
   "mimetype": "text/x-python",
   "name": "python",
   "nbconvert_exporter": "python",
   "pygments_lexer": "ipython3"
  }
 },
 "nbformat": 4,
 "nbformat_minor": 2
}
