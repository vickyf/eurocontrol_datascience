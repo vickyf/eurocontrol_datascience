{
 "cells": [
  {
   "cell_type": "markdown",
   "metadata": {},
   "source": [
    "# Exploratory Data Analysis - Solution"
   ]
  },
  {
   "cell_type": "code",
   "execution_count": null,
   "metadata": {},
   "outputs": [],
   "source": [
    "%matplotlib inline\n",
    "import pandas as pd\n",
    "import matplotlib.pyplot as plt\n",
    "import numpy as np"
   ]
  },
  {
   "cell_type": "markdown",
   "metadata": {},
   "source": [
    "## Titanic Data"
   ]
  },
  {
   "cell_type": "markdown",
   "metadata": {},
   "source": [
    "The following are the field descriptions:\n",
    "\n",
    "<table>\n",
    "<tr><th>Field</th>\n",
    "<th>Descriptions</th>\n",
    "</tr>\n",
    "<tr><td>survival</td>\n",
    "<td>Survival(0 = No; 1 = Yes)</td>\n",
    "</tr>\n",
    "<tr><td>pclass</td>\n",
    "<td>Passenger Class(1 = 1st; 2 = 2nd; 3 = 3rd)</td>\n",
    "</tr>\n",
    "<tr><td>name</td>\n",
    "<td>Name of the passenger</td>\n",
    "</tr>\n",
    "<tr><td>sex</td>\n",
    "<td>Gender of the passenger</td>\n",
    "</tr>\n",
    "<tr><td>age</td>\n",
    "<td>Age of the passenger</td>\n",
    "</tr>\n",
    "<tr><td>sibsp</td>\n",
    "<td>Number of Siblings/Spouses Aboard</td>\n",
    "</tr>\n",
    "<tr><td>parch</td>\n",
    "<td>Number of Parents/Children Aboard</td>\n",
    "</tr>\n",
    "<tr><td>ticket</td>\n",
    "<td>Ticket Number</td>\n",
    "</tr>\n",
    "<tr><td>fare</td>\n",
    "<td>Passenger Fare</td>\n",
    "</tr>\n",
    "<tr><td>cabin</td>\n",
    "<td>Cabin</td>\n",
    "</tr>\n",
    "<tr><td>embarked</td>\n",
    "<td>Port of Embarkation\n",
    "(C = Cherbourg; Q = Queenstown; S = Southampton)\n",
    "</td></tr>\n",
    "</table>\n"
   ]
  },
  {
   "cell_type": "code",
   "execution_count": null,
   "metadata": {},
   "outputs": [],
   "source": [
    "df = pd.read_csv(\"data/titanic data.csv\")"
   ]
  },
  {
   "cell_type": "markdown",
   "metadata": {},
   "source": [
    "##  Which passenger class had the maximum survivors?"
   ]
  },
  {
   "cell_type": "markdown",
   "metadata": {},
   "source": [
    "Checking if there are any null values"
   ]
  },
  {
   "cell_type": "code",
   "execution_count": null,
   "metadata": {},
   "outputs": [],
   "source": [
    "df['Pclass'].isnull().value_counts()"
   ]
  },
  {
   "cell_type": "code",
   "execution_count": null,
   "metadata": {},
   "outputs": [],
   "source": [
    "df['Survived'].isnull().value_counts()"
   ]
  },
  {
   "cell_type": "code",
   "execution_count": null,
   "metadata": {},
   "outputs": [],
   "source": [
    "#Passengers survived in each class\n",
    "survivors = df.groupby('Pclass')['Survived'].sum()\n",
    "\n",
    "#Total Passengers in each class\n",
    "total_passengers = df.groupby('Pclass')['PassengerId'].count()\n",
    "survivor_percentage = survivors / total_passengers"
   ]
  },
  {
   "cell_type": "code",
   "execution_count": null,
   "metadata": {},
   "outputs": [],
   "source": [
    "#Plotting the Total Number of Survivors\n",
    "fig = plt.figure(figsize=(12,8))\n",
    "ax = fig.add_subplot(111)\n",
    "\n",
    "rect = ax.bar(survivors.index.values.tolist(), survivors, color='blue', width=0.5)\n",
    "ax.set_ylabel('No. of survivors')\n",
    "ax.set_title('Total number of survivors based on class')\n",
    "xTickMarks = survivors.index.values.tolist()\n",
    "ax.set_xticks(survivors.index.values.tolist())\n",
    "xtickNames = ax.set_xticklabels(xTickMarks)\n",
    "plt.setp(xtickNames, fontsize=10)\n",
    "\n",
    "plt.show()"
   ]
  },
  {
   "cell_type": "code",
   "execution_count": null,
   "metadata": {},
   "outputs": [],
   "source": [
    "#Plotting the Percentage of Survivors in each Class\n",
    "\n",
    "fig = plt.figure(figsize=(12,8))\n",
    "ax = fig.add_subplot(111)\n",
    "\n",
    "rect = ax.bar(survivor_percentage.index.values.tolist(), survivor_percentage, \n",
    "              color='blue', width=0.5)\n",
    "ax.set_ylabel('Survivor Percentage')\n",
    "ax.set_title('Percentage of survivors based on class')\n",
    "xTickMarks = survivors.index.values.tolist()\n",
    "ax.set_xticks(survivors.index.values.tolist())\n",
    "xtickNames = ax.set_xticklabels(xTickMarks)\n",
    "vals = ax.get_yticks()\n",
    "ax.set_yticklabels(['{:3.0f}%'.format(x*100) for x in vals])\n",
    "plt.setp(xtickNames, fontsize=10)\n",
    "plt.show()"
   ]
  },
  {
   "cell_type": "markdown",
   "metadata": {},
   "source": [
    "## What was the distribution based on gender for the survivors among the class?"
   ]
  },
  {
   "cell_type": "code",
   "execution_count": null,
   "metadata": {},
   "outputs": [],
   "source": [
    "#Checking for any null values\n",
    "df['Sex'].isnull().value_counts()"
   ]
  },
  {
   "cell_type": "code",
   "execution_count": null,
   "metadata": {},
   "outputs": [],
   "source": [
    "# Male Passengers survived in each class\n",
    "male_survivors = df[df['Sex'] == 'male'].groupby('Pclass')['Survived'].agg(sum)\n",
    "\n",
    "#Total Male Passengers in each class\n",
    "male_total_passengers = df[df['Sex'] == 'male'].groupby('Pclass')['PassengerId'].count()\n",
    "male_survivor_percentage = male_survivors / male_total_passengers\n",
    "\n",
    "# Female Passengers survived in each class\n",
    "female_survivors = df[df['Sex'] == 'female'].groupby('Pclass')['Survived'].agg(sum)\n",
    "\n",
    "#Total Female Passengers in each class\n",
    "female_total_passengers = df[df['Sex'] == 'female'].groupby('Pclass')['PassengerId'].count()\n",
    "female_survivor_percentage = female_survivors / female_total_passengers"
   ]
  },
  {
   "cell_type": "code",
   "execution_count": null,
   "metadata": {},
   "outputs": [],
   "source": [
    "#Plotting the total passengers who survived based on Gender \n",
    "fig = plt.figure(figsize=(12,8))\n",
    "ax = fig.add_subplot(111)\n",
    "\n",
    "index = np.arange(male_survivors.count())\n",
    "bar_width = 0.35\n",
    "\n",
    "rect1 = ax.bar(index, male_survivors, bar_width, color='blue', label='Men')\n",
    "rect2 = ax.bar(index + bar_width, female_survivors, bar_width, color='y', label='Women')\n",
    "\n",
    "ax.set_ylabel('Survivor Numbers')\n",
    "ax.set_title('Male and Female survivors based on class')\n",
    "xTickMarks = male_survivors.index.values.tolist()\n",
    "ax.set_xticks(index + bar_width)\n",
    "xtickNames = ax.set_xticklabels(xTickMarks)\n",
    "plt.setp(xtickNames, fontsize=10)\n",
    "plt.legend()\n",
    "plt.tight_layout()\n",
    "plt.show()"
   ]
  },
  {
   "cell_type": "code",
   "execution_count": null,
   "metadata": {},
   "outputs": [],
   "source": [
    "#Plotting the percentage of passengers who survived based on Gender \n",
    "fig = plt.figure(figsize=(12,8))\n",
    "ax = fig.add_subplot(111)\n",
    "index = np.arange(male_survivor_percentage.count())\n",
    "bar_width = 0.35\n",
    "\n",
    "rect1 = ax.bar(index, male_survivor_percentage, bar_width, color='blue', label='Men')\n",
    "rect2 = ax.bar(index + bar_width, female_survivor_percentage, bar_width, color='y', label='Women')\n",
    "\n",
    "ax.set_ylabel('Survivor Percentage')\n",
    "ax.set_title('Percentage Male and Female of survivors based on class')\n",
    "xTickMarks = male_survivor_percentage.index.values.tolist()\n",
    "ax.set_xticks(index + bar_width)\n",
    "xtickNames = ax.set_xticklabels(xTickMarks)\n",
    "plt.setp(xtickNames, fontsize=10)\n",
    "vals = ax.get_yticks()\n",
    "ax.set_yticklabels(['{:3.0f}%'.format(x*100) for x in vals])\n",
    "plt.legend()\n",
    "plt.tight_layout()\n",
    "plt.show()"
   ]
  },
  {
   "cell_type": "markdown",
   "metadata": {},
   "source": [
    "## What is the distribution of the non survivors among classes having family relatives aboard the ship?"
   ]
  },
  {
   "cell_type": "code",
   "execution_count": null,
   "metadata": {},
   "outputs": [],
   "source": [
    "#Checking for the null values\n",
    "df['SibSp'].isnull().value_counts()"
   ]
  },
  {
   "cell_type": "code",
   "execution_count": null,
   "metadata": {},
   "outputs": [],
   "source": [
    "#Checking for the null values\n",
    "df['Parch'].isnull().value_counts()"
   ]
  },
  {
   "cell_type": "code",
   "execution_count": null,
   "metadata": {},
   "outputs": [],
   "source": [
    "#Total number of non-survivors in each class\n",
    "non_survivors = df[(df['SibSp'] > 0) | (df['Parch'] > 0) & \n",
    "                   (df['Survived'] == 0)].groupby('Pclass')['Survived'].agg('count')\n",
    "\n",
    "#Total passengers in each class\n",
    "total_passengers = df.groupby('Pclass')['PassengerId'].count()\n",
    "non_survivor_percentage = non_survivors / total_passengers\n",
    "\n",
    "#Total number of non survivors with family based on class\n",
    "fig = plt.figure()\n",
    "ax = fig.add_subplot(111)\n",
    "\n",
    "rect = ax.bar(non_survivors.index.values.tolist(), non_survivors, color='blue', width=0.5)\n",
    "ax.set_ylabel('No. of non survivors')\n",
    "ax.set_title('Total number of non survivors with family based on class')\n",
    "xTickMarks = non_survivors.index.values.tolist()\n",
    "ax.set_xticks(non_survivors.index.values.tolist())\n",
    "xtickNames = ax.set_xticklabels(xTickMarks)\n",
    "plt.setp(xtickNames, fontsize=10)\n",
    "plt.show()"
   ]
  },
  {
   "cell_type": "code",
   "execution_count": null,
   "metadata": {},
   "outputs": [],
   "source": [
    "#Plot of percentage of non survivors with family based on class\n",
    "fig = plt.figure()\n",
    "ax = fig.add_subplot(111)\n",
    "\n",
    "rect = ax.bar(non_survivor_percentage.index.values.tolist(), non_survivor_percentage, color='blue', width=0.5)\n",
    "ax.set_ylabel('Non Survivor Percentage')\n",
    "ax.set_title('Percentage of non survivors with family based on class')\n",
    "xTickMarks = non_survivor_percentage.index.values.tolist()\n",
    "ax.set_xticks(non_survivor_percentage.index.values.tolist())\n",
    "xtickNames = ax.set_xticklabels(xTickMarks)\n",
    "plt.setp(xtickNames, fontsize=10)\n",
    "vals = ax.get_yticks()\n",
    "ax.set_yticklabels(['{:3.0f}%'.format(x*100) for x in vals])\n",
    "plt.show()\n"
   ]
  },
  {
   "cell_type": "markdown",
   "metadata": {},
   "source": [
    "## What was the survival percentage among different age groups?"
   ]
  },
  {
   "cell_type": "code",
   "execution_count": null,
   "metadata": {},
   "outputs": [],
   "source": [
    "#Checking for null values\n",
    "df['Age'].isnull().value_counts()"
   ]
  },
  {
   "cell_type": "code",
   "execution_count": null,
   "metadata": {},
   "outputs": [],
   "source": [
    "df['Age'].describe()"
   ]
  },
  {
   "cell_type": "code",
   "execution_count": null,
   "metadata": {},
   "outputs": [],
   "source": [
    "#Defining the age binning interval\n",
    "age_bin = [0, 18, 25, 40, 60, 100]\n",
    "\n",
    "#Creating the bins and add them to a new column in the dataframe\n",
    "df['AgeBin'] = pd.cut(df.Age, bins=age_bin)"
   ]
  },
  {
   "cell_type": "code",
   "execution_count": null,
   "metadata": {},
   "outputs": [],
   "source": [
    "df.head()"
   ]
  },
  {
   "cell_type": "code",
   "execution_count": null,
   "metadata": {},
   "outputs": [],
   "source": [
    "#Removing the null rows\n",
    "d_temp = df[np.isfinite(df['Age'])]  # removing all na instances"
   ]
  },
  {
   "cell_type": "code",
   "execution_count": null,
   "metadata": {},
   "outputs": [],
   "source": [
    "d_temp.shape"
   ]
  },
  {
   "cell_type": "code",
   "execution_count": null,
   "metadata": {},
   "outputs": [],
   "source": [
    "#Number of survivors based on Age bin\n",
    "survivors = d_temp.groupby('AgeBin')['Survived'].agg(sum)\n",
    "#Total passengers in each bin\n",
    "total_passengers = d_temp.groupby('AgeBin')['Survived'].agg('count')\n",
    "print(total_passengers)"
   ]
  },
  {
   "cell_type": "code",
   "execution_count": null,
   "metadata": {},
   "outputs": [],
   "source": [
    "#Plotting the pie chart of total passengers in each bin\n",
    "plt.pie(total_passengers, labels=total_passengers.index.values,\n",
    "    autopct='%1.1f%%', shadow=True, startangle=90)\n",
    "\n",
    "plt.title('Total Passengers in different age groups')\n",
    "plt.show()"
   ]
  },
  {
   "cell_type": "code",
   "execution_count": null,
   "metadata": {},
   "outputs": [],
   "source": [
    "#Plotting the pie chart of percentage passengers in each bin\n",
    "plt.pie(survivors, labels=survivors.index.values,\n",
    "    autopct='%1.1f%%', shadow=True, startangle=90)\n",
    "\n",
    "plt.title('Survivors in different age groups')\n",
    "plt.show()"
   ]
  },
  {
   "cell_type": "code",
   "execution_count": null,
   "metadata": {},
   "outputs": [],
   "source": []
  }
 ],
 "metadata": {
  "kernelspec": {
   "display_name": "Python 3",
   "language": "python",
   "name": "python3"
  },
  "language_info": {
   "codemirror_mode": {
    "name": "ipython",
    "version": 3
   },
   "file_extension": ".py",
   "mimetype": "text/x-python",
   "name": "python",
   "nbconvert_exporter": "python",
   "pygments_lexer": "ipython3"
  }
 },
 "nbformat": 4,
 "nbformat_minor": 1
}
