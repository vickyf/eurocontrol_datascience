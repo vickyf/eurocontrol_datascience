{
 "cells": [
  {
   "cell_type": "markdown",
   "metadata": {},
   "source": [
    "# Exploratory Data Analysis - Exercises"
   ]
  },
  {
   "cell_type": "code",
   "execution_count": null,
   "metadata": {},
   "outputs": [],
   "source": [
    "%matplotlib inline\n",
    "import pandas as pd\n",
    "import matplotlib.pyplot as plt\n",
    "import numpy as np"
   ]
  },
  {
   "cell_type": "markdown",
   "metadata": {},
   "source": [
    "## Titanic Data"
   ]
  },
  {
   "cell_type": "markdown",
   "metadata": {},
   "source": [
    "The following are the field descriptions:\n",
    "\n",
    "<table>\n",
    "<tr><th>Field</th>\n",
    "<th>Descriptions</th>\n",
    "</tr>\n",
    "<tr><td>survival</td>\n",
    "<td>Survival(0 = No; 1 = Yes)</td>\n",
    "</tr>\n",
    "<tr><td>pclass</td>\n",
    "<td>Passenger Class(1 = 1st; 2 = 2nd; 3 = 3rd)</td>\n",
    "</tr>\n",
    "<tr><td>name</td>\n",
    "<td>Name of the passenger</td>\n",
    "</tr>\n",
    "<tr><td>sex</td>\n",
    "<td>Gender of the passenger</td>\n",
    "</tr>\n",
    "<tr><td>age</td>\n",
    "<td>Age of the passenger</td>\n",
    "</tr>\n",
    "<tr><td>sibsp</td>\n",
    "<td>Number of Siblings/Spouses Aboard</td>\n",
    "</tr>\n",
    "<tr><td>parch</td>\n",
    "<td>Number of Parents/Children Aboard</td>\n",
    "</tr>\n",
    "<tr><td>ticket</td>\n",
    "<td>Ticket Number</td>\n",
    "</tr>\n",
    "<tr><td>fare</td>\n",
    "<td>Passenger Fare</td>\n",
    "</tr>\n",
    "<tr><td>cabin</td>\n",
    "<td>Cabin</td>\n",
    "</tr>\n",
    "<tr><td>embarked</td>\n",
    "<td>Port of Embarkation\n",
    "(C = Cherbourg; Q = Queenstown; S = Southampton)\n",
    "</td></tr>\n",
    "</table>\n"
   ]
  },
  {
   "cell_type": "markdown",
   "metadata": {},
   "source": [
    "### Exercise 1: Load the data in a pandas dataframe\n",
    "\n",
    "Data file is located in `data/titanic data.csv`"
   ]
  },
  {
   "cell_type": "code",
   "execution_count": null,
   "metadata": {},
   "outputs": [],
   "source": [
    "import pandas as pd\n",
    "df = pd.read_csv(\"data/titanic data.csv\")"
   ]
  },
  {
   "cell_type": "code",
   "execution_count": null,
   "metadata": {},
   "outputs": [],
   "source": [
    "df.head()"
   ]
  },
  {
   "cell_type": "markdown",
   "metadata": {},
   "source": [
    "### Exercise 2:  Which passenger class had the maximum survivors?"
   ]
  },
  {
   "cell_type": "markdown",
   "metadata": {},
   "source": [
    "TO DO:\n",
    "- Check if there are any null values\n",
    "- Determine number of survivors and survivor percentage for each class\n",
    "- Plot the the total number of survivors per class\n",
    "- Plot the percentage of survivors in each class"
   ]
  },
  {
   "cell_type": "code",
   "execution_count": null,
   "metadata": {},
   "outputs": [],
   "source": []
  },
  {
   "cell_type": "code",
   "execution_count": null,
   "metadata": {},
   "outputs": [],
   "source": []
  },
  {
   "cell_type": "markdown",
   "metadata": {},
   "source": [
    "### Exercise 3: What was the distribution based on gender for the survivors among the class?"
   ]
  },
  {
   "cell_type": "markdown",
   "metadata": {},
   "source": [
    "TO DO:\n",
    "- Calculation\n",
    "- Plot"
   ]
  },
  {
   "cell_type": "code",
   "execution_count": null,
   "metadata": {},
   "outputs": [],
   "source": []
  },
  {
   "cell_type": "code",
   "execution_count": null,
   "metadata": {},
   "outputs": [],
   "source": []
  },
  {
   "cell_type": "markdown",
   "metadata": {},
   "source": [
    "### Exercise 4: What is the distribution of the non survivors among classes having family relative aboard the ship?\n",
    "\n",
    "TO DO:\n",
    "- Calculation\n",
    "- Plots"
   ]
  },
  {
   "cell_type": "code",
   "execution_count": null,
   "metadata": {},
   "outputs": [],
   "source": []
  },
  {
   "cell_type": "code",
   "execution_count": null,
   "metadata": {},
   "outputs": [],
   "source": []
  },
  {
   "cell_type": "markdown",
   "metadata": {},
   "source": [
    "### Exercise 5: What was the survival percentage among different age groups?\n",
    "\n",
    "TO DO:\n",
    "- Calculations \n",
    "- Create bins: `[0, 18, 25, 40, 60, 100]`\n",
    "- Plots"
   ]
  },
  {
   "cell_type": "code",
   "execution_count": null,
   "metadata": {},
   "outputs": [],
   "source": []
  },
  {
   "cell_type": "code",
   "execution_count": null,
   "metadata": {},
   "outputs": [],
   "source": []
  }
 ],
 "metadata": {
  "kernelspec": {
   "display_name": "Python 3",
   "language": "python",
   "name": "python3"
  },
  "language_info": {
   "codemirror_mode": {
    "name": "ipython",
    "version": 3
   },
   "file_extension": ".py",
   "mimetype": "text/x-python",
   "name": "python",
   "nbconvert_exporter": "python",
   "pygments_lexer": "ipython3"
  }
 },
 "nbformat": 4,
 "nbformat_minor": 1
}
